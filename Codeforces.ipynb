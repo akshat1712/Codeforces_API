{
 "cells": [
  {
   "cell_type": "code",
   "execution_count": null,
   "id": "80dfd902",
   "metadata": {},
   "outputs": [],
   "source": [
    "import requests as rq\n",
    "import matplotlib.pyplot as plt\n",
    "import statistics\n",
    "a=input(\"Enter your Codeforces Handle: \")\n",
    "res1=rq.get(\"https://codeforces.com/api/user.rating?handle={}\".format(a))\n",
    "temp= res1.json()['result']\n",
    "ratings=[]\n",
    "change=[]\n",
    "for i in temp:\n",
    "    ratings.append( i['rank'])\n",
    "    change.append( i['newRating']-i['oldRating'])\n",
    "x=[]\n",
    "for i in range( len(temp)):\n",
    "    x.append(i+1)\n",
    "plt.bar(x,ratings)\n",
    "print(\"Handle's Average Ranking is:{} \".format( statistics.mean(ratings)))\n",
    "print(\"Handle's Standard Devitation is:{}\".format( statistics.pstdev(ratings)))\n",
    "plt.xlabel(\"Contest Number\")\n",
    "plt.ylabel(\"Ranking\")\n",
    "plt.show()\n",
    "\n",
    "barlist=plt.bar(x,change)\n",
    "for i in range(len(x)):\n",
    "    if( change[i]>0):\n",
    "        barlist[i].set_color('g')\n",
    "    elif( change[i]<0):\n",
    "        barlist[i].set_color('r')\n",
    "    else:\n",
    "        barlist[i].set_color('b')\n",
    "print(\"Handle's Average Rating Change is:{}\".format( statistics.mean(change)))\n",
    "print(\"Handle's Standard Devitation is:{}\".format( statistics.pstdev(change)))\n",
    "plt.xlabel(\"Contest Number\")\n",
    "plt.ylabel(\"Rating Change\")\n",
    "plt.show()"
   ]
  },
  {
   "cell_type": "code",
   "execution_count": null,
   "id": "c030a76a",
   "metadata": {},
   "outputs": [],
   "source": []
  }
 ],
 "metadata": {
  "kernelspec": {
   "display_name": "Python 3",
   "language": "python",
   "name": "python3"
  },
  "language_info": {
   "codemirror_mode": {
    "name": "ipython",
    "version": 3
   },
   "file_extension": ".py",
   "mimetype": "text/x-python",
   "name": "python",
   "nbconvert_exporter": "python",
   "pygments_lexer": "ipython3",
   "version": "3.8.8"
  }
 },
 "nbformat": 4,
 "nbformat_minor": 5
}
